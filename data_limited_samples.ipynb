{
 "cells": [
  {
   "cell_type": "code",
   "execution_count": 1,
   "metadata": {},
   "outputs": [
    {
     "name": "stderr",
     "output_type": "stream",
     "text": [
      "/usr/local/miniconda3/envs/cs330/lib/python3.10/site-packages/tqdm/auto.py:22: TqdmWarning: IProgress not found. Please update jupyter and ipywidgets. See https://ipywidgets.readthedocs.io/en/stable/user_install.html\n",
      "  from .autonotebook import tqdm as notebook_tqdm\n"
     ]
    }
   ],
   "source": [
    "import csv\n",
    "import pandas as pd\n",
    "import numpy as np\n",
    "from torch import nn, Tensor\n",
    "import torch\n",
    "from data_util import read_csv, fields_to_array, read_csv_files"
   ]
  },
  {
   "cell_type": "code",
   "execution_count": 6,
   "metadata": {},
   "outputs": [
    {
     "name": "stdout",
     "output_type": "stream",
     "text": [
      "total row:  940 \t ./data/meta_learning_part_5.csv\n",
      "total dataset:  940\n"
     ]
    }
   ],
   "source": [
    "df_crop_few_sampels = read_csv_files(r\"./data/meta_learning_part_5.csv\")\n",
    "names_labels = df_crop_few_sampels['golden_label'].unique()\n",
    "total_classes = df_crop_few_sampels['golden_label'].nunique()\n",
    "num_data = df_crop_few_sampels.shape[0]"
   ]
  },
  {
   "cell_type": "code",
   "execution_count": 10,
   "metadata": {},
   "outputs": [
    {
     "data": {
      "text/plain": [
       "oat          220\n",
       "walnut       211\n",
       "grape        193\n",
       "almonds      148\n",
       "cherry        95\n",
       "sugarcane     73\n",
       "Name: golden_label, dtype: int64"
      ]
     },
     "execution_count": 10,
     "metadata": {},
     "output_type": "execute_result"
    }
   ],
   "source": [
    "df_crop_few_sampels['golden_label'].value_counts()"
   ]
  },
  {
   "cell_type": "code",
   "execution_count": null,
   "metadata": {},
   "outputs": [],
   "source": []
  }
 ],
 "metadata": {
  "kernelspec": {
   "display_name": "Python 3.10.4 ('cs330')",
   "language": "python",
   "name": "python3"
  },
  "language_info": {
   "codemirror_mode": {
    "name": "ipython",
    "version": 3
   },
   "file_extension": ".py",
   "mimetype": "text/x-python",
   "name": "python",
   "nbconvert_exporter": "python",
   "pygments_lexer": "ipython3",
   "version": "3.10.4"
  },
  "orig_nbformat": 4,
  "vscode": {
   "interpreter": {
    "hash": "8e58056322f7d0e811e42b31921e6c8e96bffe5258bf9ef66dd0c5e5e49c585c"
   }
  }
 },
 "nbformat": 4,
 "nbformat_minor": 2
}
